{
  "nbformat": 4,
  "nbformat_minor": 0,
  "metadata": {
    "colab": {
      "name": "Drive Video Splitter.ipynb",
      "provenance": [],
      "authorship_tag": "ABX9TyPhfZxKXYtoyQpoDg5hTCM5",
      "include_colab_link": true
    },
    "kernelspec": {
      "name": "python3",
      "display_name": "Python 3"
    },
    "language_info": {
      "name": "python"
    }
  },
  "cells": [
    {
      "cell_type": "markdown",
      "metadata": {
        "id": "view-in-github",
        "colab_type": "text"
      },
      "source": [
        "<a href=\"https://colab.research.google.com/github/Zilch123/Drive-Video-Splitter-colab/blob/main/Drive_Video_Splitter.ipynb\" target=\"_parent\"><img src=\"https://colab.research.google.com/assets/colab-badge.svg\" alt=\"Open In Colab\"/></a>"
      ]
    },
    {
      "cell_type": "code",
      "execution_count": null,
      "metadata": {
        "id": "3RNlkVF7TvKa"
      },
      "outputs": [],
      "source": [
        "from google.colab import drive"
      ]
    },
    {
      "cell_type": "code",
      "source": [
        "drive.mount('/content/drive')"
      ],
      "metadata": {
        "colab": {
          "base_uri": "https://localhost:8080/"
        },
        "id": "oN8evlZYUYgc",
        "outputId": "a36c2c75-04e1-4b0d-e130-51414f22bcb1"
      },
      "execution_count": null,
      "outputs": [
        {
          "output_type": "stream",
          "name": "stdout",
          "text": [
            "Mounted at /content/drive\n"
          ]
        }
      ]
    },
    {
      "cell_type": "code",
      "source": [
        "!ls \"/content/drive/My Drive\""
      ],
      "metadata": {
        "colab": {
          "base_uri": "https://localhost:8080/"
        },
        "id": "trRAxD3ZUU9n",
        "outputId": "f7fd9959-b739-4bb1-cab4-b68494fae3c9"
      },
      "execution_count": null,
      "outputs": [
        {
          "output_type": "stream",
          "name": "stdout",
          "text": [
            " ArtPrice.gsheet\n",
            "'Art prices.gdoc'\n",
            "'Colab Notebooks'\n",
            "'Copy of Copy of Module 1- Shortlisting 2-3 ideas.mp4'\n",
            "'Copy of Module 1- Shortlisting 2-3 ideas.mp4'\n",
            "'EPISODE 01 - Standing Up In The Milky Way - MkvCage.mkv'\n",
            "'Hip & Knee Prosthesis.pptx'\n"
          ]
        }
      ]
    },
    {
      "cell_type": "code",
      "source": [
        "!ffmpeg -i \"/content/drive/My Drive/Copy of Module 1- Shortlisting 2-3 ideas.mp4\" 2>&1 | grep Duration | cut -d ' ' -f 4 | sed s/,//"
      ],
      "metadata": {
        "colab": {
          "base_uri": "https://localhost:8080/"
        },
        "id": "G4mMjCPFXOp0",
        "outputId": "e2d11dda-7602-4c23-bcb7-9e63f9ec772c"
      },
      "execution_count": null,
      "outputs": [
        {
          "output_type": "stream",
          "name": "stdout",
          "text": [
            "01:41:49.55\n"
          ]
        }
      ]
    },
    {
      "cell_type": "code",
      "source": [
        "!ffmpeg -i \"/content/drive/My Drive/Copy of Module 1- Shortlisting 2-3 ideas.mp4\" -acodec copy -vcodec copy -ss 01:00:00 -t 01:41:49 OUTFILE-3.mp4"
      ],
      "metadata": {
        "colab": {
          "base_uri": "https://localhost:8080/"
        },
        "id": "N16uDKShUhdW",
        "outputId": "6acb1e50-ef81-4947-bbaa-1daa86bdd6cc"
      },
      "execution_count": null,
      "outputs": [
        {
          "output_type": "stream",
          "name": "stdout",
          "text": [
            "ffmpeg version 3.4.8-0ubuntu0.2 Copyright (c) 2000-2020 the FFmpeg developers\n",
            "  built with gcc 7 (Ubuntu 7.5.0-3ubuntu1~18.04)\n",
            "  configuration: --prefix=/usr --extra-version=0ubuntu0.2 --toolchain=hardened --libdir=/usr/lib/x86_64-linux-gnu --incdir=/usr/include/x86_64-linux-gnu --enable-gpl --disable-stripping --enable-avresample --enable-avisynth --enable-gnutls --enable-ladspa --enable-libass --enable-libbluray --enable-libbs2b --enable-libcaca --enable-libcdio --enable-libflite --enable-libfontconfig --enable-libfreetype --enable-libfribidi --enable-libgme --enable-libgsm --enable-libmp3lame --enable-libmysofa --enable-libopenjpeg --enable-libopenmpt --enable-libopus --enable-libpulse --enable-librubberband --enable-librsvg --enable-libshine --enable-libsnappy --enable-libsoxr --enable-libspeex --enable-libssh --enable-libtheora --enable-libtwolame --enable-libvorbis --enable-libvpx --enable-libwavpack --enable-libwebp --enable-libx265 --enable-libxml2 --enable-libxvid --enable-libzmq --enable-libzvbi --enable-omx --enable-openal --enable-opengl --enable-sdl2 --enable-libdc1394 --enable-libdrm --enable-libiec61883 --enable-chromaprint --enable-frei0r --enable-libopencv --enable-libx264 --enable-shared\n",
            "  libavutil      55. 78.100 / 55. 78.100\n",
            "  libavcodec     57.107.100 / 57.107.100\n",
            "  libavformat    57. 83.100 / 57. 83.100\n",
            "  libavdevice    57. 10.100 / 57. 10.100\n",
            "  libavfilter     6.107.100 /  6.107.100\n",
            "  libavresample   3.  7.  0 /  3.  7.  0\n",
            "  libswscale      4.  8.100 /  4.  8.100\n",
            "  libswresample   2.  9.100 /  2.  9.100\n",
            "  libpostproc    54.  7.100 / 54.  7.100\n",
            "Input #0, mov,mp4,m4a,3gp,3g2,mj2, from '/content/drive/My Drive/Copy of Module 1- Shortlisting 2-3 ideas.mp4':\n",
            "  Metadata:\n",
            "    major_brand     : mp42\n",
            "    minor_version   : 0\n",
            "    compatible_brands: mp42mp41isomavc1\n",
            "    creation_time   : 2020-07-11T05:17:02.000000Z\n",
            "  Duration: 01:41:49.55, start: 0.000000, bitrate: 4495 kb/s\n",
            "    Stream #0:0(und): Video: h264 (High) (avc1 / 0x31637661), yuv420p(tv, bt709), 1920x1080, 4237 kb/s, 30 fps, 30 tbr, 30 tbn, 60 tbc (default)\n",
            "    Metadata:\n",
            "      creation_time   : 2020-07-11T05:17:02.000000Z\n",
            "      handler_name    : L-SMASH Video Handler\n",
            "      encoder         : AVC Coding\n",
            "    Stream #0:1(und): Audio: aac (LC) (mp4a / 0x6134706D), 48000 Hz, stereo, fltp, 253 kb/s (default)\n",
            "    Metadata:\n",
            "      creation_time   : 2020-07-11T05:17:02.000000Z\n",
            "      handler_name    : L-SMASH Audio Handler\n",
            "Output #0, mp4, to 'OUTFILE-3.mp4':\n",
            "  Metadata:\n",
            "    major_brand     : mp42\n",
            "    minor_version   : 0\n",
            "    compatible_brands: mp42mp41isomavc1\n",
            "    encoder         : Lavf57.83.100\n",
            "    Stream #0:0(und): Video: h264 (High) (avc1 / 0x31637661), yuv420p(tv, bt709), 1920x1080, q=2-31, 4237 kb/s, 30 fps, 30 tbr, 15360 tbn, 30 tbc (default)\n",
            "    Metadata:\n",
            "      creation_time   : 2020-07-11T05:17:02.000000Z\n",
            "      handler_name    : L-SMASH Video Handler\n",
            "      encoder         : AVC Coding\n",
            "    Stream #0:1(und): Audio: aac (LC) (mp4a / 0x6134706D), 48000 Hz, stereo, fltp, 253 kb/s (default)\n",
            "    Metadata:\n",
            "      creation_time   : 2020-07-11T05:17:02.000000Z\n",
            "      handler_name    : L-SMASH Audio Handler\n",
            "Stream mapping:\n",
            "  Stream #0:0 -> #0:0 (copy)\n",
            "  Stream #0:1 -> #0:1 (copy)\n",
            "Press [q] to stop, [?] for help\n",
            "frame=75274 fps=3996 q=-1.0 Lsize= 1237416kB time=00:41:49.52 bitrate=4039.4kbits/s speed= 133x    \n",
            "video:1157105kB audio:77619kB subtitle:0kB other streams:0kB global headers:0kB muxing overhead: 0.218002%\n"
          ]
        }
      ]
    },
    {
      "cell_type": "code",
      "source": [
        "!ls"
      ],
      "metadata": {
        "colab": {
          "base_uri": "https://localhost:8080/"
        },
        "id": "q6wgdy75VKt3",
        "outputId": "70a79ccf-3c38-4bc8-b489-8ee3ebca17b2"
      },
      "execution_count": null,
      "outputs": [
        {
          "output_type": "stream",
          "name": "stdout",
          "text": [
            "drive  OUTFILE-1.mp4  sample_data\n"
          ]
        }
      ]
    },
    {
      "cell_type": "code",
      "source": [
        "import shutil"
      ],
      "metadata": {
        "id": "SnJu6Ns1V3x9"
      },
      "execution_count": null,
      "outputs": []
    },
    {
      "cell_type": "code",
      "source": [
        "shutil.move(\"OUTFILE-3.mp4\", \"/content/drive/My Drive\")"
      ],
      "metadata": {
        "colab": {
          "base_uri": "https://localhost:8080/",
          "height": 35
        },
        "id": "-5Lbm2etVanW",
        "outputId": "59ca635b-42e6-42c9-dd6a-eca1f255f5db"
      },
      "execution_count": null,
      "outputs": [
        {
          "output_type": "execute_result",
          "data": {
            "text/plain": [
              "'/content/drive/My Drive/OUTFILE-3.mp4'"
            ],
            "application/vnd.google.colaboratory.intrinsic+json": {
              "type": "string"
            }
          },
          "metadata": {},
          "execution_count": 19
        }
      ]
    }
  ]
}